{
  "nbformat": 4,
  "nbformat_minor": 0,
  "metadata": {
    "colab": {
      "provenance": [],
      "authorship_tag": "ABX9TyObRnpuRdsyb++Ge+iF9laT",
      "include_colab_link": true
    },
    "kernelspec": {
      "name": "python3",
      "display_name": "Python 3"
    },
    "language_info": {
      "name": "python"
    }
  },
  "cells": [
    {
      "cell_type": "markdown",
      "metadata": {
        "id": "view-in-github",
        "colab_type": "text"
      },
      "source": [
        "<a href=\"https://colab.research.google.com/github/nicholashobbs/Random-Notes/blob/master/Fantasy.ipynb\" target=\"_parent\"><img src=\"https://colab.research.google.com/assets/colab-badge.svg\" alt=\"Open In Colab\"/></a>"
      ]
    },
    {
      "cell_type": "code",
      "source": [
        "import pandas as pd, numpy as np\n",
        "print(\"pandas:\", pd.__version__, \"numpy:\", np.__version__)\n",
        "# Expect: pandas 2.2.2, numpy 1.26.4\n"
      ],
      "metadata": {
        "colab": {
          "base_uri": "https://localhost:8080/"
        },
        "id": "wiJ9uh2XfJh4",
        "outputId": "c28e020c-5ae1-44c0-ab92-657b790db29e"
      },
      "execution_count": 1,
      "outputs": [
        {
          "output_type": "stream",
          "name": "stdout",
          "text": [
            "pandas: 2.2.2 numpy: 2.0.2\n"
          ]
        }
      ]
    },
    {
      "cell_type": "code",
      "source": [
        "# Cell 1 — install\n",
        "%pip install --no-deps \"nflreadpy\" \"polars\" \"pyarrow\"\n"
      ],
      "metadata": {
        "colab": {
          "base_uri": "https://localhost:8080/"
        },
        "id": "QLy7B0jybMTB",
        "outputId": "29b6fea4-fc30-40c9-8c05-3ac98d540349"
      },
      "execution_count": 4,
      "outputs": [
        {
          "output_type": "stream",
          "name": "stdout",
          "text": [
            "Collecting nflreadpy\n",
            "  Using cached nflreadpy-0.1.2-py3-none-any.whl.metadata (6.2 kB)\n",
            "Requirement already satisfied: polars in /usr/local/lib/python3.12/dist-packages (1.25.2)\n",
            "Requirement already satisfied: pyarrow in /usr/local/lib/python3.12/dist-packages (18.1.0)\n",
            "Downloading nflreadpy-0.1.2-py3-none-any.whl (27 kB)\n",
            "Installing collected packages: nflreadpy\n",
            "Successfully installed nflreadpy-0.1.2\n"
          ]
        }
      ]
    },
    {
      "cell_type": "code",
      "source": [
        "import polars as pl, nflreadpy as nfl\n",
        "from importlib.metadata import version\n",
        "print(\"nflreadpy:\", version(\"nflreadpy\"), \"| polars:\", pl.__version__)\n",
        "\n",
        "SEASON = nfl.get_current_season()\n",
        "WEEK   = nfl.get_current_week()\n",
        "SEASON, WEEK\n"
      ],
      "metadata": {
        "colab": {
          "base_uri": "https://localhost:8080/"
        },
        "id": "4FggCIP7bS0p",
        "outputId": "f24eaa1e-d721-43e6-b5d9-7ace5ec349f2"
      },
      "execution_count": 5,
      "outputs": [
        {
          "output_type": "stream",
          "name": "stdout",
          "text": [
            "nflreadpy: 0.1.2 | polars: 1.25.2\n"
          ]
        },
        {
          "output_type": "execute_result",
          "data": {
            "text/plain": [
              "(2025, 3)"
            ]
          },
          "metadata": {},
          "execution_count": 5
        }
      ]
    },
    {
      "cell_type": "code",
      "source": [
        "sched = nfl.load_schedules(seasons=SEASON)\n",
        "\n",
        "this_week = (\n",
        "    sched\n",
        "    .filter(pl.col(\"week\") == WEEK)\n",
        "    .select(\"game_id\",\"season\",\"week\",\"gameday\",\"gametime\",\n",
        "            \"home_team\",\"away_team\",\"spread_line\",\"total_line\")\n",
        "    .sort(\"gameday\")\n",
        ")\n",
        "this_week.sample(5)\n"
      ],
      "metadata": {
        "colab": {
          "base_uri": "https://localhost:8080/",
          "height": 342
        },
        "id": "Is0tRY-kW36_",
        "outputId": "53790c18-7ed4-4eec-e54e-e1b4ca8ad30e"
      },
      "execution_count": 9,
      "outputs": [
        {
          "output_type": "execute_result",
          "data": {
            "text/plain": [
              "shape: (5, 9)\n",
              "┌──────────────┬────────┬──────┬────────────┬───┬───────────┬───────────┬─────────────┬────────────┐\n",
              "│ game_id      ┆ season ┆ week ┆ gameday    ┆ … ┆ home_team ┆ away_team ┆ spread_line ┆ total_line │\n",
              "│ ---          ┆ ---    ┆ ---  ┆ ---        ┆   ┆ ---       ┆ ---       ┆ ---         ┆ ---        │\n",
              "│ str          ┆ i64    ┆ i64  ┆ str        ┆   ┆ str       ┆ str       ┆ f64         ┆ f64        │\n",
              "╞══════════════╪════════╪══════╪════════════╪═══╪═══════════╪═══════════╪═════════════╪════════════╡\n",
              "│ 2025_03_ATL_ ┆ 2025   ┆ 3    ┆ 2025-09-21 ┆ … ┆ CAR       ┆ ATL       ┆ -5.5        ┆ 43.5       │\n",
              "│ CAR          ┆        ┆      ┆            ┆   ┆           ┆           ┆             ┆            │\n",
              "│ 2025_03_CIN_ ┆ 2025   ┆ 3    ┆ 2025-09-21 ┆ … ┆ MIN       ┆ CIN       ┆ 3.0         ┆ 41.5       │\n",
              "│ MIN          ┆        ┆      ┆            ┆   ┆           ┆           ┆             ┆            │\n",
              "│ 2025_03_DAL_ ┆ 2025   ┆ 3    ┆ 2025-09-21 ┆ … ┆ CHI       ┆ DAL       ┆ -1.5        ┆ 50.5       │\n",
              "│ CHI          ┆        ┆      ┆            ┆   ┆           ┆           ┆             ┆            │\n",
              "│ 2025_03_IND_ ┆ 2025   ┆ 3    ┆ 2025-09-21 ┆ … ┆ TEN       ┆ IND       ┆ -4.5        ┆ 43.5       │\n",
              "│ TEN          ┆        ┆      ┆            ┆   ┆           ┆           ┆             ┆            │\n",
              "│ 2025_03_ARI_ ┆ 2025   ┆ 3    ┆ 2025-09-21 ┆ … ┆ SF        ┆ ARI       ┆ 2.5         ┆ 45.5       │\n",
              "│ SF           ┆        ┆      ┆            ┆   ┆           ┆           ┆             ┆            │\n",
              "└──────────────┴────────┴──────┴────────────┴───┴───────────┴───────────┴─────────────┴────────────┘"
            ],
            "text/html": [
              "<div><style>\n",
              ".dataframe > thead > tr,\n",
              ".dataframe > tbody > tr {\n",
              "  text-align: right;\n",
              "  white-space: pre-wrap;\n",
              "}\n",
              "</style>\n",
              "<small>shape: (5, 9)</small><table border=\"1\" class=\"dataframe\"><thead><tr><th>game_id</th><th>season</th><th>week</th><th>gameday</th><th>gametime</th><th>home_team</th><th>away_team</th><th>spread_line</th><th>total_line</th></tr><tr><td>str</td><td>i64</td><td>i64</td><td>str</td><td>str</td><td>str</td><td>str</td><td>f64</td><td>f64</td></tr></thead><tbody><tr><td>&quot;2025_03_ATL_CAR&quot;</td><td>2025</td><td>3</td><td>&quot;2025-09-21&quot;</td><td>&quot;13:00&quot;</td><td>&quot;CAR&quot;</td><td>&quot;ATL&quot;</td><td>-5.5</td><td>43.5</td></tr><tr><td>&quot;2025_03_CIN_MIN&quot;</td><td>2025</td><td>3</td><td>&quot;2025-09-21&quot;</td><td>&quot;13:00&quot;</td><td>&quot;MIN&quot;</td><td>&quot;CIN&quot;</td><td>3.0</td><td>41.5</td></tr><tr><td>&quot;2025_03_DAL_CHI&quot;</td><td>2025</td><td>3</td><td>&quot;2025-09-21&quot;</td><td>&quot;16:25&quot;</td><td>&quot;CHI&quot;</td><td>&quot;DAL&quot;</td><td>-1.5</td><td>50.5</td></tr><tr><td>&quot;2025_03_IND_TEN&quot;</td><td>2025</td><td>3</td><td>&quot;2025-09-21&quot;</td><td>&quot;13:00&quot;</td><td>&quot;TEN&quot;</td><td>&quot;IND&quot;</td><td>-4.5</td><td>43.5</td></tr><tr><td>&quot;2025_03_ARI_SF&quot;</td><td>2025</td><td>3</td><td>&quot;2025-09-21&quot;</td><td>&quot;16:25&quot;</td><td>&quot;SF&quot;</td><td>&quot;ARI&quot;</td><td>2.5</td><td>45.5</td></tr></tbody></table></div>"
            ]
          },
          "metadata": {},
          "execution_count": 9
        }
      ]
    },
    {
      "cell_type": "code",
      "source": [
        "wk = (\n",
        "    this_week\n",
        "    .with_columns([\n",
        "        ((pl.col(\"total_line\")/2) - (pl.col(\"spread_line\")/2)).alias(\"home_it\"),\n",
        "        ((pl.col(\"total_line\")/2) + (pl.col(\"spread_line\")/2)).alias(\"away_it\")\n",
        "    ])\n",
        ")\n",
        "\n",
        "home = wk.select([\"game_id\",\"home_team\",\"home_it\"]).rename({\"home_team\":\"team_clean\",\"home_it\":\"implied_total\"})\n",
        "away = wk.select([\"game_id\",\"away_team\",\"away_it\"]).rename({\"away_team\":\"team_clean\",\"away_it\":\"implied_total\"})\n",
        "implied = pl.concat([home, away])\n",
        "implied.head()\n"
      ],
      "metadata": {
        "colab": {
          "base_uri": "https://localhost:8080/",
          "height": 255
        },
        "id": "zloAX1UQcemZ",
        "outputId": "dfd66c10-9d73-42f4-ba9f-77ebdb8c6f6f"
      },
      "execution_count": 10,
      "outputs": [
        {
          "output_type": "execute_result",
          "data": {
            "text/plain": [
              "shape: (5, 3)\n",
              "┌─────────────────┬────────────┬───────────────┐\n",
              "│ game_id         ┆ team_clean ┆ implied_total │\n",
              "│ ---             ┆ ---        ┆ ---           │\n",
              "│ str             ┆ str        ┆ f64           │\n",
              "╞═════════════════╪════════════╪═══════════════╡\n",
              "│ 2025_03_MIA_BUF ┆ BUF        ┆ 18.5          │\n",
              "│ 2025_03_ATL_CAR ┆ CAR        ┆ 24.5          │\n",
              "│ 2025_03_GB_CLE  ┆ CLE        ┆ 25.0          │\n",
              "│ 2025_03_HOU_JAX ┆ JAX        ┆ 21.5          │\n",
              "│ 2025_03_CIN_MIN ┆ MIN        ┆ 19.25         │\n",
              "└─────────────────┴────────────┴───────────────┘"
            ],
            "text/html": [
              "<div><style>\n",
              ".dataframe > thead > tr,\n",
              ".dataframe > tbody > tr {\n",
              "  text-align: right;\n",
              "  white-space: pre-wrap;\n",
              "}\n",
              "</style>\n",
              "<small>shape: (5, 3)</small><table border=\"1\" class=\"dataframe\"><thead><tr><th>game_id</th><th>team_clean</th><th>implied_total</th></tr><tr><td>str</td><td>str</td><td>f64</td></tr></thead><tbody><tr><td>&quot;2025_03_MIA_BUF&quot;</td><td>&quot;BUF&quot;</td><td>18.5</td></tr><tr><td>&quot;2025_03_ATL_CAR&quot;</td><td>&quot;CAR&quot;</td><td>24.5</td></tr><tr><td>&quot;2025_03_GB_CLE&quot;</td><td>&quot;CLE&quot;</td><td>25.0</td></tr><tr><td>&quot;2025_03_HOU_JAX&quot;</td><td>&quot;JAX&quot;</td><td>21.5</td></tr><tr><td>&quot;2025_03_CIN_MIN&quot;</td><td>&quot;MIN&quot;</td><td>19.25</td></tr></tbody></table></div>"
            ]
          },
          "metadata": {},
          "execution_count": 10
        }
      ]
    },
    {
      "cell_type": "code",
      "source": [
        "# Cell — load season-to-date player weekly + snaps, restricted to completed weeks\n",
        "import polars as pl, nflreadpy as nfl\n",
        "\n",
        "# Guard: make sure LAST_DONE_WEEK exists\n",
        "try:\n",
        "    LAST_DONE_WEEK\n",
        "except NameError:\n",
        "    LAST_DONE_WEEK = max(int(WEEK) - 1, 1)\n",
        "\n",
        "player_weekly = nfl.load_player_stats(seasons=SEASON, summary_level=\"week\")\n",
        "snaps         = nfl.load_snap_counts(seasons=SEASON)\n",
        "\n",
        "# Pick the correct team column that actually exists\n",
        "team_col = \"team\" if \"team\" in player_weekly.columns else (\"recent_team\" if \"recent_team\" in player_weekly.columns else None)\n",
        "if team_col is None:\n",
        "    raise ValueError(\"No team column found in player_weekly. Available columns: \" + \", \".join(player_weekly.columns))\n",
        "\n",
        "# Prepare a minimal season-to-date table (no risky columns yet)\n",
        "pw_hist = (\n",
        "    player_weekly\n",
        "    .filter(pl.col(\"week\") <= LAST_DONE_WEEK)\n",
        "    .with_columns([\n",
        "        pl.col(\"player_display_name\").alias(\"player_name\"),\n",
        "        pl.col(team_col).alias(\"team_clean\")\n",
        "    ])\n",
        ")\n",
        "\n",
        "# Show exactly what we have to work with (so we only reference real columns next)\n",
        "print(\"player_weekly columns:\\n\", player_weekly.columns)\n",
        "print(\"\\nsnaps columns:\\n\", snaps.columns)\n",
        "\n",
        "pw_hist.select([\"player_name\",\"position\",\"team_clean\",\"week\"]).head(10)\n"
      ],
      "metadata": {
        "colab": {
          "base_uri": "https://localhost:8080/",
          "height": 521
        },
        "id": "gD5uW_0mXA-S",
        "outputId": "159215c1-ee3e-4aee-9368-4b376b907900"
      },
      "execution_count": 15,
      "outputs": [
        {
          "output_type": "stream",
          "name": "stdout",
          "text": [
            "player_weekly columns:\n",
            " ['player_id', 'player_name', 'player_display_name', 'position', 'position_group', 'headshot_url', 'season', 'week', 'season_type', 'team', 'opponent_team', 'completions', 'attempts', 'passing_yards', 'passing_tds', 'passing_interceptions', 'sacks_suffered', 'sack_yards_lost', 'sack_fumbles', 'sack_fumbles_lost', 'passing_air_yards', 'passing_yards_after_catch', 'passing_first_downs', 'passing_epa', 'passing_cpoe', 'passing_2pt_conversions', 'pacr', 'carries', 'rushing_yards', 'rushing_tds', 'rushing_fumbles', 'rushing_fumbles_lost', 'rushing_first_downs', 'rushing_epa', 'rushing_2pt_conversions', 'receptions', 'targets', 'receiving_yards', 'receiving_tds', 'receiving_fumbles', 'receiving_fumbles_lost', 'receiving_air_yards', 'receiving_yards_after_catch', 'receiving_first_downs', 'receiving_epa', 'receiving_2pt_conversions', 'racr', 'target_share', 'air_yards_share', 'wopr', 'special_teams_tds', 'def_tackles_solo', 'def_tackles_with_assist', 'def_tackle_assists', 'def_tackles_for_loss', 'def_tackles_for_loss_yards', 'def_fumbles_forced', 'def_sacks', 'def_sack_yards', 'def_qb_hits', 'def_interceptions', 'def_interception_yards', 'def_pass_defended', 'def_tds', 'def_fumbles', 'def_safeties', 'misc_yards', 'fumble_recovery_own', 'fumble_recovery_yards_own', 'fumble_recovery_opp', 'fumble_recovery_yards_opp', 'fumble_recovery_tds', 'penalties', 'penalty_yards', 'punt_returns', 'punt_return_yards', 'kickoff_returns', 'kickoff_return_yards', 'fg_made', 'fg_att', 'fg_missed', 'fg_blocked', 'fg_long', 'fg_pct', 'fg_made_0_19', 'fg_made_20_29', 'fg_made_30_39', 'fg_made_40_49', 'fg_made_50_59', 'fg_made_60_', 'fg_missed_0_19', 'fg_missed_20_29', 'fg_missed_30_39', 'fg_missed_40_49', 'fg_missed_50_59', 'fg_missed_60_', 'fg_made_list', 'fg_missed_list', 'fg_blocked_list', 'fg_made_distance', 'fg_missed_distance', 'fg_blocked_distance', 'pat_made', 'pat_att', 'pat_missed', 'pat_blocked', 'pat_pct', 'gwfg_made', 'gwfg_att', 'gwfg_missed', 'gwfg_blocked', 'gwfg_distance', 'fantasy_points', 'fantasy_points_ppr']\n",
            "\n",
            "snaps columns:\n",
            " ['game_id', 'pfr_game_id', 'season', 'game_type', 'week', 'player', 'pfr_player_id', 'position', 'team', 'opponent', 'offense_snaps', 'offense_pct', 'defense_snaps', 'defense_pct', 'st_snaps', 'st_pct', '.progress']\n"
          ]
        },
        {
          "output_type": "execute_result",
          "data": {
            "text/plain": [
              "shape: (10, 4)\n",
              "┌──────────────────┬──────────┬────────────┬──────┐\n",
              "│ player_name      ┆ position ┆ team_clean ┆ week │\n",
              "│ ---              ┆ ---      ┆ ---        ┆ ---  │\n",
              "│ str              ┆ str      ┆ str        ┆ i32  │\n",
              "╞══════════════════╪══════════╪════════════╪══════╡\n",
              "│ Aaron Rodgers    ┆ QB       ┆ PIT        ┆ 1    │\n",
              "│ Matt Prater      ┆ K        ┆ BUF        ┆ 1    │\n",
              "│ Nick Folk        ┆ K        ┆ NYJ        ┆ 1    │\n",
              "│ Joe Flacco       ┆ QB       ┆ CLE        ┆ 1    │\n",
              "│ Calais Campbell  ┆ DE       ┆ ARI        ┆ 1    │\n",
              "│ Matthew Stafford ┆ QB       ┆ LA         ┆ 1    │\n",
              "│ Graham Gano      ┆ K        ┆ NYG        ┆ 1    │\n",
              "│ Thomas Morstead  ┆ P        ┆ SF         ┆ 1    │\n",
              "│ Trent Williams   ┆ OT       ┆ SF         ┆ 1    │\n",
              "│ Von Miller       ┆ OLB      ┆ WAS        ┆ 1    │\n",
              "└──────────────────┴──────────┴────────────┴──────┘"
            ],
            "text/html": [
              "<div><style>\n",
              ".dataframe > thead > tr,\n",
              ".dataframe > tbody > tr {\n",
              "  text-align: right;\n",
              "  white-space: pre-wrap;\n",
              "}\n",
              "</style>\n",
              "<small>shape: (10, 4)</small><table border=\"1\" class=\"dataframe\"><thead><tr><th>player_name</th><th>position</th><th>team_clean</th><th>week</th></tr><tr><td>str</td><td>str</td><td>str</td><td>i32</td></tr></thead><tbody><tr><td>&quot;Aaron Rodgers&quot;</td><td>&quot;QB&quot;</td><td>&quot;PIT&quot;</td><td>1</td></tr><tr><td>&quot;Matt Prater&quot;</td><td>&quot;K&quot;</td><td>&quot;BUF&quot;</td><td>1</td></tr><tr><td>&quot;Nick Folk&quot;</td><td>&quot;K&quot;</td><td>&quot;NYJ&quot;</td><td>1</td></tr><tr><td>&quot;Joe Flacco&quot;</td><td>&quot;QB&quot;</td><td>&quot;CLE&quot;</td><td>1</td></tr><tr><td>&quot;Calais Campbell&quot;</td><td>&quot;DE&quot;</td><td>&quot;ARI&quot;</td><td>1</td></tr><tr><td>&quot;Matthew Stafford&quot;</td><td>&quot;QB&quot;</td><td>&quot;LA&quot;</td><td>1</td></tr><tr><td>&quot;Graham Gano&quot;</td><td>&quot;K&quot;</td><td>&quot;NYG&quot;</td><td>1</td></tr><tr><td>&quot;Thomas Morstead&quot;</td><td>&quot;P&quot;</td><td>&quot;SF&quot;</td><td>1</td></tr><tr><td>&quot;Trent Williams&quot;</td><td>&quot;OT&quot;</td><td>&quot;SF&quot;</td><td>1</td></tr><tr><td>&quot;Von Miller&quot;</td><td>&quot;OLB&quot;</td><td>&quot;WAS&quot;</td><td>1</td></tr></tbody></table></div>"
            ]
          },
          "metadata": {},
          "execution_count": 15
        }
      ]
    },
    {
      "cell_type": "code",
      "source": [
        "# Cell — build per-game team totals using only columns that exist\n",
        "import polars as pl\n",
        "\n",
        "def col_exists(df: pl.DataFrame, name: str) -> bool:\n",
        "    return name in df.columns\n",
        "\n",
        "# We'll aggregate per (season, week, team_clean)\n",
        "aggs = []\n",
        "\n",
        "# team pass attempts\n",
        "if col_exists(pw_hist, \"attempts\"):\n",
        "    aggs.append(pl.sum(\"attempts\").alias(\"team_pass_att\"))\n",
        "else:\n",
        "    # create a constant 0 if not present, so downstream code doesn't break\n",
        "    aggs.append(pl.lit(0).alias(\"team_pass_att\"))\n",
        "\n",
        "# team rush attempts\n",
        "if col_exists(pw_hist, \"rushing_attempts\"):\n",
        "    aggs.append(pl.sum(\"rushing_attempts\").alias(\"team_rush_att\"))\n",
        "else:\n",
        "    aggs.append(pl.lit(0).alias(\"team_rush_att\"))\n",
        "\n",
        "# team passing TDs and rushing TDs (we'll sum them into team_off_tds)\n",
        "have_ptd = col_exists(pw_hist, \"passing_tds\")\n",
        "have_rtd = col_exists(pw_hist, \"rushing_tds\")\n",
        "\n",
        "agg_ptd = pl.sum(\"passing_tds\").alias(\"team_pass_tds\") if have_ptd else pl.lit(0).alias(\"team_pass_tds\")\n",
        "agg_rtd = pl.sum(\"rushing_tds\").alias(\"team_rush_tds\") if have_rtd else pl.lit(0).alias(\"team_rush_tds\")\n",
        "aggs.extend([agg_ptd, agg_rtd])\n",
        "\n",
        "team_g = (\n",
        "    pw_hist\n",
        "    .group_by([\"season\",\"week\",\"team_clean\"])\n",
        "    .agg(aggs)\n",
        "    .with_columns([\n",
        "        (pl.col(\"team_pass_tds\") + pl.col(\"team_rush_tds\")).alias(\"team_off_tds\")\n",
        "    ])\n",
        ")\n",
        "\n",
        "print(\"Built team_g with columns:\", team_g.columns)\n",
        "team_g.head(10)\n"
      ],
      "metadata": {
        "colab": {
          "base_uri": "https://localhost:8080/",
          "height": 450
        },
        "id": "WqSzks0JkBFU",
        "outputId": "5784c52c-c5db-4022-a0dd-93c8f8591abc"
      },
      "execution_count": 16,
      "outputs": [
        {
          "output_type": "stream",
          "name": "stdout",
          "text": [
            "Built team_g with columns: ['season', 'week', 'team_clean', 'team_pass_att', 'team_rush_att', 'team_pass_tds', 'team_rush_tds', 'team_off_tds']\n"
          ]
        },
        {
          "output_type": "execute_result",
          "data": {
            "text/plain": [
              "shape: (10, 8)\n",
              "┌────────┬──────┬────────────┬─────────────┬─────────────┬─────────────┬─────────────┬─────────────┐\n",
              "│ season ┆ week ┆ team_clean ┆ team_pass_a ┆ team_rush_a ┆ team_pass_t ┆ team_rush_t ┆ team_off_td │\n",
              "│ ---    ┆ ---  ┆ ---        ┆ tt          ┆ tt          ┆ ds          ┆ ds          ┆ s           │\n",
              "│ i32    ┆ i32  ┆ str        ┆ ---         ┆ ---         ┆ ---         ┆ ---         ┆ ---         │\n",
              "│        ┆      ┆            ┆ i32         ┆ i32         ┆ i32         ┆ i32         ┆ i32         │\n",
              "╞════════╪══════╪════════════╪═════════════╪═════════════╪═════════════╪═════════════╪═════════════╡\n",
              "│ 2025   ┆ 2    ┆ TEN        ┆ 33          ┆ 0           ┆ 1           ┆ 0           ┆ 1           │\n",
              "│ 2025   ┆ 1    ┆ LV         ┆ 34          ┆ 0           ┆ 1           ┆ 1           ┆ 2           │\n",
              "│ 2025   ┆ 1    ┆ PHI        ┆ 23          ┆ 0           ┆ 0           ┆ 3           ┆ 3           │\n",
              "│ 2025   ┆ 2    ┆ WAS        ┆ 42          ┆ 0           ┆ 2           ┆ 0           ┆ 2           │\n",
              "│ 2025   ┆ 1    ┆ HOU        ┆ 27          ┆ 0           ┆ 0           ┆ 0           ┆ 0           │\n",
              "│ 2025   ┆ 1    ┆ TEN        ┆ 28          ┆ 0           ┆ 0           ┆ 0           ┆ 0           │\n",
              "│ 2025   ┆ 2    ┆ LA         ┆ 33          ┆ 0           ┆ 2           ┆ 2           ┆ 4           │\n",
              "│ 2025   ┆ 1    ┆ DET        ┆ 39          ┆ 0           ┆ 1           ┆ 0           ┆ 1           │\n",
              "│ 2025   ┆ 2    ┆ NO         ┆ 34          ┆ 0           ┆ 3           ┆ 0           ┆ 3           │\n",
              "│ 2025   ┆ 1    ┆ BUF        ┆ 46          ┆ 0           ┆ 2           ┆ 3           ┆ 5           │\n",
              "└────────┴──────┴────────────┴─────────────┴─────────────┴─────────────┴─────────────┴─────────────┘"
            ],
            "text/html": [
              "<div><style>\n",
              ".dataframe > thead > tr,\n",
              ".dataframe > tbody > tr {\n",
              "  text-align: right;\n",
              "  white-space: pre-wrap;\n",
              "}\n",
              "</style>\n",
              "<small>shape: (10, 8)</small><table border=\"1\" class=\"dataframe\"><thead><tr><th>season</th><th>week</th><th>team_clean</th><th>team_pass_att</th><th>team_rush_att</th><th>team_pass_tds</th><th>team_rush_tds</th><th>team_off_tds</th></tr><tr><td>i32</td><td>i32</td><td>str</td><td>i32</td><td>i32</td><td>i32</td><td>i32</td><td>i32</td></tr></thead><tbody><tr><td>2025</td><td>2</td><td>&quot;TEN&quot;</td><td>33</td><td>0</td><td>1</td><td>0</td><td>1</td></tr><tr><td>2025</td><td>1</td><td>&quot;LV&quot;</td><td>34</td><td>0</td><td>1</td><td>1</td><td>2</td></tr><tr><td>2025</td><td>1</td><td>&quot;PHI&quot;</td><td>23</td><td>0</td><td>0</td><td>3</td><td>3</td></tr><tr><td>2025</td><td>2</td><td>&quot;WAS&quot;</td><td>42</td><td>0</td><td>2</td><td>0</td><td>2</td></tr><tr><td>2025</td><td>1</td><td>&quot;HOU&quot;</td><td>27</td><td>0</td><td>0</td><td>0</td><td>0</td></tr><tr><td>2025</td><td>1</td><td>&quot;TEN&quot;</td><td>28</td><td>0</td><td>0</td><td>0</td><td>0</td></tr><tr><td>2025</td><td>2</td><td>&quot;LA&quot;</td><td>33</td><td>0</td><td>2</td><td>2</td><td>4</td></tr><tr><td>2025</td><td>1</td><td>&quot;DET&quot;</td><td>39</td><td>0</td><td>1</td><td>0</td><td>1</td></tr><tr><td>2025</td><td>2</td><td>&quot;NO&quot;</td><td>34</td><td>0</td><td>3</td><td>0</td><td>3</td></tr><tr><td>2025</td><td>1</td><td>&quot;BUF&quot;</td><td>46</td><td>0</td><td>2</td><td>3</td><td>5</td></tr></tbody></table></div>"
            ]
          },
          "metadata": {},
          "execution_count": 16
        }
      ]
    },
    {
      "cell_type": "code",
      "source": [
        "# Define exactly the players you want projections for.\n",
        "# If a name doesn't match, run:\n",
        "#   player_weekly.select(\"player_display_name\").unique().sort(\"player_display_name\")\n",
        "# to find the exact display name used in the data.\n",
        "\n",
        "MY_PLAYERS = [\n",
        "    # WRs\n",
        "    \"Tyreek Hill\",\n",
        "    \"Cooper Kupp\",\n",
        "    \"Stefon Diggs\",\n",
        "    \"Zay Flowers\",\n",
        "    \"Nico Collins\",\n",
        "    \"Rome Odunze\",\n",
        "\n",
        "    # RBs\n",
        "    \"Derrick Henry\",\n",
        "    \"Tony Pollard\",\n",
        "    \"Travis Etienne Jr.\",\n",
        "    \"Kenneth Walker III\",\n",
        "    \"James Conner\",\n",
        "\n",
        "    # TE\n",
        "    \"George Kittle\",\n",
        "    \"Dallas Goedert\",\n",
        "    \"David Njoku\",\n",
        "\n",
        "    # QB\n",
        "    \"Jalen Hurts\",\n",
        "]\n",
        "\n",
        "# (Optional) quick sanity print\n",
        "print(\"Players:\", len(MY_PLAYERS))\n",
        "for p in MY_PLAYERS: print(\"-\", p)\n"
      ],
      "metadata": {
        "colab": {
          "base_uri": "https://localhost:8080/"
        },
        "id": "sUlY4me_npJ3",
        "outputId": "bbb7b03a-5580-4c59-9c98-c2c95f0f75d2"
      },
      "execution_count": 18,
      "outputs": [
        {
          "output_type": "stream",
          "name": "stdout",
          "text": [
            "Players: 15\n",
            "- Tyreek Hill\n",
            "- Cooper Kupp\n",
            "- Stefon Diggs\n",
            "- Zay Flowers\n",
            "- Nico Collins\n",
            "- Rome Odunze\n",
            "- Derrick Henry\n",
            "- Tony Pollard\n",
            "- Travis Etienne Jr.\n",
            "- Kenneth Walker III\n",
            "- James Conner\n",
            "- George Kittle\n",
            "- Dallas Goedert\n",
            "- David Njoku\n",
            "- Jalen Hurts\n"
          ]
        }
      ]
    },
    {
      "cell_type": "code",
      "source": [
        "# Cell — minimal per-player projection using only real columns and your Standard scoring\n",
        "\n",
        "import polars as pl\n",
        "\n",
        "# make sure MY_PLAYERS exists (list of strings) and LAST_DONE_WEEK/ROLL_N exist\n",
        "try:\n",
        "    MY_PLAYERS\n",
        "except NameError:\n",
        "    raise ValueError(\"Please define MY_PLAYERS = ['Tyreek Hill', ...] before running this cell.\")\n",
        "\n",
        "ROLL_N = 4 if 'ROLL_N' not in globals() else ROLL_N\n",
        "LAST_DONE_WEEK = max(int(WEEK) - 1, 1) if 'LAST_DONE_WEEK' not in globals() else LAST_DONE_WEEK\n",
        "start_wk = max(1, LAST_DONE_WEEK - ROLL_N + 1)\n",
        "\n",
        "# helper to check column presence\n",
        "def has(col: str) -> bool:\n",
        "    return col in pw_hist.columns\n",
        "\n",
        "# keep only last-N completed weeks for your players\n",
        "hist = (\n",
        "    pw_hist\n",
        "    .filter((pl.col(\"player_name\").is_in(MY_PLAYERS)) & (pl.col(\"week\") >= start_wk) & (pl.col(\"week\") <= LAST_DONE_WEEK))\n",
        "    .select([\"player_name\",\"position\",\"team_clean\",\"week\"] + [c for c in [\n",
        "        \"attempts\",\"passing_yards\",\"passing_tds\",\"interceptions\",\"two_point_conversions\",\n",
        "        \"rushing_attempts\",\"rushing_yards\",\"rushing_tds\",\"rushing_first_downs\",\n",
        "        \"targets\",\"receiving_yards\",\"receiving_tds\",\"receiving_first_downs\"\n",
        "    ] if has(c)])\n",
        ")\n",
        "\n",
        "# per-game averages over last-N window\n",
        "avg = (\n",
        "    hist.group_by([\"player_name\",\"position\",\"team_clean\"])\n",
        "    .agg([\n",
        "        pl.mean(\"attempts\").alias(\"pa_g\") if has(\"attempts\") else pl.lit(0).alias(\"pa_g\"),\n",
        "        pl.mean(\"passing_yards\").alias(\"py_g\") if has(\"passing_yards\") else pl.lit(0).alias(\"py_g\"),\n",
        "        pl.mean(\"passing_tds\").alias(\"ptd_g\") if has(\"passing_tds\") else pl.lit(0).alias(\"ptd_g\"),\n",
        "        pl.mean(\"interceptions\").alias(\"int_g\") if has(\"interceptions\") else pl.lit(0).alias(\"int_g\"),\n",
        "        pl.mean(\"two_point_conversions\").alias(\"two_pt_g\") if has(\"two_point_conversions\") else pl.lit(0).alias(\"two_pt_g\"),\n",
        "\n",
        "        pl.mean(\"rushing_attempts\").alias(\"ra_g\") if has(\"rushing_attempts\") else pl.lit(0).alias(\"ra_g\"),\n",
        "        pl.mean(\"rushing_yards\").alias(\"ry_g\") if has(\"rushing_yards\") else pl.lit(0).alias(\"ry_g\"),\n",
        "        pl.mean(\"rushing_tds\").alias(\"rtd_g\") if has(\"rushing_tds\") else pl.lit(0).alias(\"rtd_g\"),\n",
        "        pl.mean(\"rushing_first_downs\").alias(\"rfd_g\") if has(\"rushing_first_downs\") else pl.lit(0).alias(\"rfd_g\"),\n",
        "\n",
        "        pl.mean(\"targets\").alias(\"tgt_g\") if has(\"targets\") else pl.lit(0).alias(\"tgt_g\"),\n",
        "        pl.mean(\"receiving_yards\").alias(\"rec_y_g\") if has(\"receiving_yards\") else pl.lit(0).alias(\"rec_y_g\"),\n",
        "        pl.mean(\"receiving_tds\").alias(\"retd_g\") if has(\"receiving_tds\") else pl.lit(0).alias(\"retd_g\"),\n",
        "        pl.mean(\"receiving_first_downs\").alias(\"recv_fd_g\") if has(\"receiving_first_downs\") else pl.lit(0).alias(\"recv_fd_g\"),\n",
        "    ])\n",
        ")\n",
        "\n",
        "# your league scoring (Standard / no PPR)\n",
        "SCORING = {\n",
        "    \"pass_yd_per\": 0.04,  # 1 pt per 25 pass yds\n",
        "    \"pass_td\":     4.0,\n",
        "    \"int\":        -2.0,\n",
        "    \"two_pt\":      2.0,\n",
        "\n",
        "    \"rush_yd_per\": 0.1,   # 1 pt per 10 rush yds\n",
        "    \"rush_td\":     6.0,\n",
        "    \"rush_fd\":     0.25,\n",
        "\n",
        "    \"rec_yd_per\":  0.1,   # 1 pt per 10 rec yds\n",
        "    \"rec_td\":      6.0,\n",
        "    \"rec_fd\":      0.25\n",
        "}\n",
        "\n",
        "# compute projected fantasy points strictly from last-N per-game averages\n",
        "proj = (\n",
        "    avg.with_columns([\n",
        "        # passing component\n",
        "        (pl.col(\"py_g\") * SCORING[\"pass_yd_per\"] +\n",
        "         pl.col(\"ptd_g\") * SCORING[\"pass_td\"] +\n",
        "         pl.col(\"int_g\") * SCORING[\"int\"]).alias(\"fp_pass\"),\n",
        "\n",
        "        # rushing component\n",
        "        (pl.col(\"ry_g\") * SCORING[\"rush_yd_per\"] +\n",
        "         pl.col(\"rtd_g\") * SCORING[\"rush_td\"] +\n",
        "         pl.col(\"rfd_g\") * SCORING[\"rush_fd\"]).alias(\"fp_rush\"),\n",
        "\n",
        "        # receiving component (no PPR)\n",
        "        (pl.col(\"rec_y_g\") * SCORING[\"rec_yd_per\"] +\n",
        "         pl.col(\"retd_g\")  * SCORING[\"rec_td\"] +\n",
        "         pl.col(\"recv_fd_g\") * SCORING[\"rec_fd\"]).alias(\"fp_rec\"),\n",
        "\n",
        "        # 2-pt (from historical avg)\n",
        "        (pl.col(\"two_pt_g\") * SCORING[\"two_pt\"]).alias(\"fp_two_pt\"),\n",
        "    ])\n",
        "    .with_columns([\n",
        "        (pl.col(\"fp_pass\")+pl.col(\"fp_rush\")+pl.col(\"fp_rec\")+pl.col(\"fp_two_pt\")).alias(\"proj_fp_lastN\")\n",
        "    ])\n",
        "    .sort(\"proj_fp_lastN\", descending=True)\n",
        ")\n",
        "\n",
        "# nice compact view\n",
        "proj.select([\n",
        "    \"player_name\",\"position\",\"team_clean\",\n",
        "    \"pa_g\",\"py_g\",\"ptd_g\",\"int_g\",\n",
        "    \"ra_g\",\"ry_g\",\"rtd_g\",\"rfd_g\",\n",
        "    \"tgt_g\",\"rec_y_g\",\"retd_g\",\"recv_fd_g\",\n",
        "    \"proj_fp_lastN\"\n",
        "])\n"
      ],
      "metadata": {
        "colab": {
          "base_uri": "https://localhost:8080/",
          "height": 532
        },
        "id": "6W86ezkWmJ6h",
        "outputId": "a313b7d2-721f-4c89-9326-270f4655148c"
      },
      "execution_count": 19,
      "outputs": [
        {
          "output_type": "execute_result",
          "data": {
            "text/plain": [
              "shape: (14, 16)\n",
              "┌────────────────┬──────────┬────────────┬──────┬───┬─────────┬────────┬───────────┬───────────────┐\n",
              "│ player_name    ┆ position ┆ team_clean ┆ pa_g ┆ … ┆ rec_y_g ┆ retd_g ┆ recv_fd_g ┆ proj_fp_lastN │\n",
              "│ ---            ┆ ---      ┆ ---        ┆ ---  ┆   ┆ ---     ┆ ---    ┆ ---       ┆ ---           │\n",
              "│ str            ┆ str      ┆ str        ┆ f64  ┆   ┆ f64     ┆ f64    ┆ f64       ┆ f64           │\n",
              "╞════════════════╪══════════╪════════════╪══════╪═══╪═════════╪════════╪═══════════╪═══════════════╡\n",
              "│ Jalen Hurts    ┆ QB       ┆ PHI        ┆ 22.5 ┆ … ┆ 0.0     ┆ 0.0    ┆ 0.0       ┆ 19.41         │\n",
              "│ Rome Odunze    ┆ WR       ┆ CHI        ┆ 0.0  ┆ … ┆ 82.5    ┆ 1.5    ┆ 4.5       ┆ 18.375        │\n",
              "│ Derrick Henry  ┆ RB       ┆ BAL        ┆ 0.0  ┆ … ┆ 6.5     ┆ 0.0    ┆ 0.5       ┆ 17.125        │\n",
              "│ Zay Flowers    ┆ WR       ┆ BAL        ┆ 0.0  ┆ … ┆ 109.0   ┆ 0.5    ┆ 4.0       ┆ 15.5          │\n",
              "│ James Conner   ┆ RB       ┆ ARI        ┆ 0.0  ┆ … ┆ 11.5    ┆ 0.5    ┆ 1.5       ┆ 11.675        │\n",
              "│ …              ┆ …        ┆ …          ┆ …    ┆ … ┆ …       ┆ …      ┆ …         ┆ …             │\n",
              "│ Nico Collins   ┆ WR       ┆ HOU        ┆ 0.0  ┆ … ┆ 38.5    ┆ 0.5    ┆ 1.0       ┆ 7.1           │\n",
              "│ Cooper Kupp    ┆ WR       ┆ SEA        ┆ 0.0  ┆ … ┆ 52.5    ┆ 0.0    ┆ 2.5       ┆ 5.875         │\n",
              "│ Stefon Diggs   ┆ WR       ┆ NE         ┆ 0.0  ┆ … ┆ 44.5    ┆ 0.0    ┆ 2.0       ┆ 4.95          │\n",
              "│ Dallas Goedert ┆ TE       ┆ PHI        ┆ 0.0  ┆ … ┆ 44.0    ┆ 0.0    ┆ 2.0       ┆ 4.9           │\n",
              "│ David Njoku    ┆ TE       ┆ CLE        ┆ 0.0  ┆ … ┆ 38.5    ┆ 0.0    ┆ 1.0       ┆ 4.1           │\n",
              "└────────────────┴──────────┴────────────┴──────┴───┴─────────┴────────┴───────────┴───────────────┘"
            ],
            "text/html": [
              "<div><style>\n",
              ".dataframe > thead > tr,\n",
              ".dataframe > tbody > tr {\n",
              "  text-align: right;\n",
              "  white-space: pre-wrap;\n",
              "}\n",
              "</style>\n",
              "<small>shape: (14, 16)</small><table border=\"1\" class=\"dataframe\"><thead><tr><th>player_name</th><th>position</th><th>team_clean</th><th>pa_g</th><th>py_g</th><th>ptd_g</th><th>int_g</th><th>ra_g</th><th>ry_g</th><th>rtd_g</th><th>rfd_g</th><th>tgt_g</th><th>rec_y_g</th><th>retd_g</th><th>recv_fd_g</th><th>proj_fp_lastN</th></tr><tr><td>str</td><td>str</td><td>str</td><td>f64</td><td>f64</td><td>f64</td><td>i32</td><td>i32</td><td>f64</td><td>f64</td><td>f64</td><td>f64</td><td>f64</td><td>f64</td><td>f64</td><td>f64</td></tr></thead><tbody><tr><td>&quot;Jalen Hurts&quot;</td><td>&quot;QB&quot;</td><td>&quot;PHI&quot;</td><td>22.5</td><td>126.5</td><td>0.0</td><td>0</td><td>0</td><td>38.5</td><td>1.5</td><td>6.0</td><td>0.0</td><td>0.0</td><td>0.0</td><td>0.0</td><td>19.41</td></tr><tr><td>&quot;Rome Odunze&quot;</td><td>&quot;WR&quot;</td><td>&quot;CHI&quot;</td><td>0.0</td><td>0.0</td><td>0.0</td><td>0</td><td>0</td><td>0.0</td><td>0.0</td><td>0.0</td><td>10.0</td><td>82.5</td><td>1.5</td><td>4.5</td><td>18.375</td></tr><tr><td>&quot;Derrick Henry&quot;</td><td>&quot;RB&quot;</td><td>&quot;BAL&quot;</td><td>0.0</td><td>0.0</td><td>0.0</td><td>0</td><td>0</td><td>96.0</td><td>1.0</td><td>3.0</td><td>0.5</td><td>6.5</td><td>0.0</td><td>0.5</td><td>17.125</td></tr><tr><td>&quot;Zay Flowers&quot;</td><td>&quot;WR&quot;</td><td>&quot;BAL&quot;</td><td>0.0</td><td>0.0</td><td>0.0</td><td>0</td><td>0</td><td>6.0</td><td>0.0</td><td>0.0</td><td>10.0</td><td>109.0</td><td>0.5</td><td>4.0</td><td>15.5</td></tr><tr><td>&quot;James Conner&quot;</td><td>&quot;RB&quot;</td><td>&quot;ARI&quot;</td><td>0.0</td><td>0.0</td><td>0.0</td><td>0</td><td>0</td><td>36.5</td><td>0.5</td><td>2.0</td><td>2.5</td><td>11.5</td><td>0.5</td><td>1.5</td><td>11.675</td></tr><tr><td>&hellip;</td><td>&hellip;</td><td>&hellip;</td><td>&hellip;</td><td>&hellip;</td><td>&hellip;</td><td>&hellip;</td><td>&hellip;</td><td>&hellip;</td><td>&hellip;</td><td>&hellip;</td><td>&hellip;</td><td>&hellip;</td><td>&hellip;</td><td>&hellip;</td><td>&hellip;</td></tr><tr><td>&quot;Nico Collins&quot;</td><td>&quot;WR&quot;</td><td>&quot;HOU&quot;</td><td>0.0</td><td>0.0</td><td>0.0</td><td>0</td><td>0</td><td>0.0</td><td>0.0</td><td>0.0</td><td>7.0</td><td>38.5</td><td>0.5</td><td>1.0</td><td>7.1</td></tr><tr><td>&quot;Cooper Kupp&quot;</td><td>&quot;WR&quot;</td><td>&quot;SEA&quot;</td><td>0.0</td><td>0.0</td><td>0.0</td><td>0</td><td>0</td><td>0.0</td><td>0.0</td><td>0.0</td><td>6.0</td><td>52.5</td><td>0.0</td><td>2.5</td><td>5.875</td></tr><tr><td>&quot;Stefon Diggs&quot;</td><td>&quot;WR&quot;</td><td>&quot;NE&quot;</td><td>0.0</td><td>0.0</td><td>0.0</td><td>0</td><td>0</td><td>0.0</td><td>0.0</td><td>0.0</td><td>6.0</td><td>44.5</td><td>0.0</td><td>2.0</td><td>4.95</td></tr><tr><td>&quot;Dallas Goedert&quot;</td><td>&quot;TE&quot;</td><td>&quot;PHI&quot;</td><td>0.0</td><td>0.0</td><td>0.0</td><td>0</td><td>0</td><td>0.0</td><td>0.0</td><td>0.0</td><td>7.0</td><td>44.0</td><td>0.0</td><td>2.0</td><td>4.9</td></tr><tr><td>&quot;David Njoku&quot;</td><td>&quot;TE&quot;</td><td>&quot;CLE&quot;</td><td>0.0</td><td>0.0</td><td>0.0</td><td>0</td><td>0</td><td>0.0</td><td>0.0</td><td>0.0</td><td>5.5</td><td>38.5</td><td>0.0</td><td>1.0</td><td>4.1</td></tr></tbody></table></div>"
            ]
          },
          "metadata": {},
          "execution_count": 19
        }
      ]
    },
    {
      "cell_type": "code",
      "source": [
        "# Cell — Print ACTUAL fantasy points for Weeks 1 & 2 (your Standard scoring), nicely formatted (not a DataFrame)\n",
        "\n",
        "import polars as pl\n",
        "\n",
        "# Scoring (from your screenshot): Standard / no PPR\n",
        "SCORING = {\n",
        "    \"pass_yd_per\": 0.04,  # 1 pt per 25 pass yds\n",
        "    \"pass_td\":     4.0,\n",
        "    \"int\":        -2.0,\n",
        "    \"two_pt\":      2.0,\n",
        "\n",
        "    \"rush_yd_per\": 0.1,   # 1 pt per 10 rush yds\n",
        "    \"rush_td\":     6.0,\n",
        "    \"rush_fd\":     0.25,\n",
        "\n",
        "    \"rec_yd_per\":  0.1,   # 1 pt per 10 rec yds\n",
        "    \"rec_td\":      6.0,\n",
        "    \"rec_fd\":      0.25\n",
        "}\n",
        "\n",
        "# Ensure we have the player-week table for raw stats (player_weekly was loaded earlier)\n",
        "# Build a minimal table with only the columns we need; create 0 columns if missing.\n",
        "def ensure_cols(df: pl.DataFrame, cols: list[str]) -> pl.DataFrame:\n",
        "    out = df\n",
        "    for c in cols:\n",
        "        if c not in out.columns:\n",
        "            out = out.with_columns(pl.lit(0).alias(c))\n",
        "    return out\n",
        "\n",
        "need = [\n",
        "    \"player_display_name\",\"position\",\"team\",\"recent_team\",\"week\",\n",
        "    \"passing_yards\",\"passing_tds\",\"interceptions\",\"two_point_conversions\",\n",
        "    \"rushing_yards\",\"rushing_tds\",\"rushing_first_downs\",\n",
        "    \"receiving_yards\",\"receiving_tds\",\"receiving_first_downs\"\n",
        "]\n",
        "pw_needed = ensure_cols(player_weekly, need)\n",
        "\n",
        "# Use \"team\" if present, else recent_team\n",
        "team_col = \"team\" if \"team\" in pw_needed.columns else \"recent_team\"\n",
        "\n",
        "# Filter to your players & weeks 1-2\n",
        "w12 = (\n",
        "    pw_needed\n",
        "    .filter( (pl.col(\"player_display_name\").is_in(MY_PLAYERS)) & (pl.col(\"week\").is_in([1,2])) )\n",
        "    .with_columns([\n",
        "        pl.col(\"player_display_name\").alias(\"player_name\"),\n",
        "        pl.col(team_col).alias(\"team_clean\")\n",
        "    ])\n",
        "    .select([\n",
        "        \"player_name\",\"position\",\"team_clean\",\"week\",\n",
        "        \"passing_yards\",\"passing_tds\",\"interceptions\",\"two_point_conversions\",\n",
        "        \"rushing_yards\",\"rushing_tds\",\"rushing_first_downs\",\n",
        "        \"receiving_yards\",\"receiving_tds\",\"receiving_first_downs\"\n",
        "    ])\n",
        ")\n",
        "\n",
        "# Compute fantasy points for each player/week using your scoring\n",
        "w12_fp = (\n",
        "    w12.with_columns([\n",
        "        (pl.col(\"passing_yards\") * SCORING[\"pass_yd_per\"]\n",
        "         + pl.col(\"passing_tds\") * SCORING[\"pass_td\"]\n",
        "         + pl.col(\"interceptions\") * SCORING[\"int\"]\n",
        "         + pl.col(\"two_point_conversions\") * SCORING[\"two_pt\"]).alias(\"fp_pass\"),\n",
        "\n",
        "        (pl.col(\"rushing_yards\") * SCORING[\"rush_yd_per\"]\n",
        "         + pl.col(\"rushing_tds\") * SCORING[\"rush_td\"]\n",
        "         + pl.col(\"rushing_first_downs\") * SCORING[\"rush_fd\"]).alias(\"fp_rush\"),\n",
        "\n",
        "        (pl.col(\"receiving_yards\") * SCORING[\"rec_yd_per\"]\n",
        "         + pl.col(\"receiving_tds\") * SCORING[\"rec_td\"]\n",
        "         + pl.col(\"receiving_first_downs\") * SCORING[\"rec_fd\"]).alias(\"fp_rec\"),\n",
        "    ])\n",
        "    .with_columns([\n",
        "        (pl.col(\"fp_pass\") + pl.col(\"fp_rush\") + pl.col(\"fp_rec\")).alias(\"fantasy_points\")\n",
        "    ])\n",
        "    .sort([\"week\",\"player_name\"])\n",
        ")\n",
        "\n",
        "# Pretty print (not a DataFrame)\n",
        "def print_week_points(df: pl.DataFrame, week: int):\n",
        "    rows = df.filter(pl.col(\"week\")==week).to_dicts()\n",
        "    print(f\"\\n=== Week {week} — Actual Fantasy Points (Standard) ===\")\n",
        "    for r in rows:\n",
        "        pts = round(r[\"fantasy_points\"], 2)\n",
        "        print(f\"• {r['player_name']} ({r['position']} — {r['team_clean']}): {pts}\")\n",
        "\n",
        "print_week_points(w12_fp, 1)\n",
        "print_week_points(w12_fp, 2)\n"
      ],
      "metadata": {
        "colab": {
          "base_uri": "https://localhost:8080/"
        },
        "id": "Tj5msx9Bm1Nx",
        "outputId": "33d150bd-8ab9-4a37-f7d7-250f4e12e20b"
      },
      "execution_count": 20,
      "outputs": [
        {
          "output_type": "stream",
          "name": "stdout",
          "text": [
            "\n",
            "=== Week 1 — Actual Fantasy Points (Standard) ===\n",
            "• Cooper Kupp (WR — SEA): 1.5\n",
            "• Dallas Goedert (TE — PHI): 4.9\n",
            "• David Njoku (TE — CLE): 3.95\n",
            "• Derrick Henry (RB — BAL): 31.7\n",
            "• George Kittle (TE — SF): 9.25\n",
            "• Jalen Hurts (QB — PHI): 26.03\n",
            "• James Conner (RB — ARI): 11.15\n",
            "• Kenneth Walker III (RB — SEA): 2.4\n",
            "• Nico Collins (WR — HOU): 2.5\n",
            "• Rome Odunze (WR — CHI): 10.45\n",
            "• Stefon Diggs (WR — NE): 6.45\n",
            "• Tony Pollard (RB — TEN): 9.65\n",
            "• Tyreek Hill (WR — MIA): 4.75\n",
            "• Zay Flowers (WR — BAL): 22.35\n",
            "\n",
            "=== Week 2 — Actual Fantasy Points (Standard) ===\n",
            "• Cooper Kupp (WR — SEA): 10.25\n",
            "• David Njoku (TE — CLE): 4.25\n",
            "• Derrick Henry (RB — BAL): 2.55\n",
            "• Jalen Hurts (QB — PHI): 12.79\n",
            "• James Conner (RB — ARI): 12.2\n",
            "• Kenneth Walker III (RB — SEA): 19.55\n",
            "• Nico Collins (WR — HOU): 11.7\n",
            "• Rome Odunze (WR — CHI): 26.3\n",
            "• Stefon Diggs (WR — NE): 3.45\n",
            "• Tony Pollard (RB — TEN): 10.45\n",
            "• Tyreek Hill (WR — MIA): 11.9\n",
            "• Zay Flowers (WR — BAL): 8.65\n"
          ]
        }
      ]
    },
    {
      "cell_type": "code",
      "source": [],
      "metadata": {
        "id": "1KMnRqbHogKQ"
      },
      "execution_count": null,
      "outputs": []
    }
  ]
}